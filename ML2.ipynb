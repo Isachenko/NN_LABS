{
 "cells": [
  {
   "cell_type": "code",
   "execution_count": 28,
   "metadata": {
    "collapsed": false
   },
   "outputs": [
    {
     "name": "stdout",
     "output_type": "stream",
     "text": [
      "Populating the interactive namespace from numpy and matplotlib\n"
     ]
    },
    {
     "name": "stderr",
     "output_type": "stream",
     "text": [
      "WARNING: pylab import has clobbered these variables: ['shuffle', 'random', 'exp']\n",
      "`%matplotlib` prevents importing * from pylab and numpy\n"
     ]
    }
   ],
   "source": [
    "%pylab inline\n",
    "from math import exp\n",
    "import math\n",
    "\n",
    "def F_threshold_binary(s):\n",
    "    y = 0 if s <=0 else 1\n",
    "    return y\n",
    "\n",
    "def F_threshold_bipolar(s):\n",
    "    y = -1 if s<=0 else 1\n",
    "    return y\n",
    "\n",
    "def F_sigmoidal_binory(s, param = 1):\n",
    "    y = 1 / (1+(exp(param * s)))\n",
    "    return y\n",
    "    \n",
    "def F_sigmidal_bipolar(s, param = 1):\n",
    "    y = (2 / (1+(exp(param * s)))) - 1;\n",
    "    return y\n",
    "\n",
    "def F_hiperbolic_tg(s):\n",
    "    return F_sigmidal_bipolar(s, 2)\n",
    "\n",
    "def F_linear(s):\n",
    "    return s\n",
    "\n",
    "def step_constant_small(_):\n",
    "    return 0.01\n",
    "\n",
    "def step_constant_medium(_):\n",
    "    return 0.1\n",
    "\n",
    "def step_constant_large(_):\n",
    "    return 0.5\n",
    "\n",
    "def step_adaptive(x):\n",
    "    s = sum(xi**2 for xi in x)\n",
    "    return 1.0 / (1 + s)\n",
    "\n",
    "#import math\n",
    "import matplotlib.pyplot as plt\n",
    "from random import random, shuffle\n",
    "\n",
    "def generate_sin_dots(a, b, c, size, step):    \n",
    "    points = []\n",
    "    t = 0\n",
    "    for i in range(size):\n",
    "        t = t + step\n",
    "        y = a * math.sin(b * t) + c;\n",
    "        points.append((t, y))\n",
    "        \n",
    "    return points"
   ]
  },
  {
   "cell_type": "code",
   "execution_count": 29,
   "metadata": {
    "collapsed": false
   },
   "outputs": [],
   "source": [
    "class perceptrone:\n",
    "    def __init__(self, inCount):\n",
    "        self.in_count = inCount\n",
    "        self.w = []\n",
    "        self.T = 1;\n",
    "        self.alf = 0.01\n",
    "            \n",
    "    def teach(self, inputs, outputs, Ee):\n",
    "        self.w = [0.1 for x in range(self.in_count)]\n",
    "        cur_epoch = 0\n",
    "        good_epoch = False\n",
    "        prevE = -1\n",
    "        while(not good_epoch):\n",
    "            j = 0\n",
    "            for cur_input in inputs:\n",
    "                #alf = step_adaptive(cur_point[0: 1])\n",
    "                S = 0\n",
    "                i = 0\n",
    "                for xi in cur_input:\n",
    "                    S = S + xi*self.w[i]\n",
    "                    i = i + 1;\n",
    "                S = S - self.T\n",
    "                y = F_linear(S)\n",
    "                K = y - outputs[j]\n",
    "                i = 0\n",
    "                for wi in self.w:\n",
    "                    wi = wi - (self.alf * cur_input[i] * K)\n",
    "                    self.w[i] = wi\n",
    "                    i = i + 1;\n",
    "                self.T = self.T + (self.alf * K)\n",
    "                j = j + 1\n",
    "            Es = 0\n",
    "            j = 0\n",
    "            for cur_input in inputs:\n",
    "                S = 0\n",
    "                i = 0\n",
    "                for xi in cur_input:\n",
    "                    S = S + xi*self.w[i]\n",
    "                    i = i + 1;\n",
    "                S = S - self.T\n",
    "                y = F_linear(S)\n",
    "                Es = Es + (y - outputs[j])**2\n",
    "            Es = Es / 2\n",
    "            print Es\n",
    "            if (prevE != -1) and (abs(prevE - Es) < Ee):\n",
    "                good_epoch = True\n",
    "            prevE = Es\n",
    "            cur_epoch = cur_epoch + 1\n",
    "            #if (good_epoch):\n",
    "            #    break\n",
    "#             if (cur_epoch > 200):\n",
    "#                 break\n",
    "        print (cur_epoch)\n",
    "        print \"w: \" , self.w\n",
    "        print \"T: \", self.T\n",
    "        \n",
    "    def get_prophecy(self, sample):\n",
    "        i = 0\n",
    "        S = 0\n",
    "        for xi in sample:\n",
    "            S = S + xi*self.w[i]\n",
    "            i = i + 1;\n",
    "        S = S - self.T\n",
    "        y = F_linear(S)\n",
    "        return y"
   ]
  },
  {
   "cell_type": "code",
   "execution_count": 30,
   "metadata": {
    "collapsed": false
   },
   "outputs": [
    {
     "name": "stdout",
     "output_type": "stream",
     "text": [
      "22.6744038514\n",
      "14.9902850343\n",
      "11.3020859972\n",
      "9.63431174324\n",
      "9.01376116404\n",
      "8.94142105979\n",
      "9.15145375815\n",
      "9.49778528841\n",
      "9.89864273141\n",
      "10.3081911808\n",
      "10.7013281035\n",
      "11.0651569102\n",
      "11.3940191709\n",
      "11.6865152085\n",
      "11.9436836239\n",
      "12.1678796369\n",
      "12.3620852974\n",
      "12.52949081\n",
      "12.6732473629\n",
      "12.7963284949\n",
      "12.9014596946\n",
      "12.991090263\n",
      "13.0673906839\n",
      "13.1322647326\n",
      "13.187369452\n",
      "13.2341386843\n",
      "13.2738075057\n",
      "13.3074359975\n",
      "13.3359314821\n",
      "13.3600687961\n",
      "13.3805084457\n",
      "13.3978126615\n",
      "13.4124594581\n",
      "13.4248548608\n",
      "13.4353434778\n",
      "13.4442176038\n",
      "36\n",
      "w:  [-0.6921397168531571, 0.06336931096053136, 0.8360182452805481]\n",
      "T:  0.000252767618672\n"
     ]
    },
    {
     "data": {
      "image/png": "[encoded data removed]",
      "text/plain": [
       "<matplotlib.figure.Figure at 0x10947d110>"
      ]
     },
     "metadata": {},
     "output_type": "display_data"
    }
   ],
   "source": [
    "def solve_problem(lenght, steps_count, window_size):\n",
    "    step_length = lenght / steps_count\n",
    "    p = generate_sin_dots(1, 5, 0, steps_count, step_length);\n",
    "    longp = p\n",
    "    p = p[0: len(p) / 2]\n",
    "    new_steps_count = len(p)\n",
    "    p = zip(*p)\n",
    "    sample_size = new_steps_count - window_size\n",
    "    sample = []\n",
    "    answers = []\n",
    "    for i in range(0, sample_size) :\n",
    "        sample.append(p[1][i : i + window_size])\n",
    "        answers.append(p[1][i + window_size])\n",
    "    prc = perceptrone(len(sample[0]))\n",
    "    prc.teach(sample, answers, 0.01)\n",
    "    \n",
    "    newdots = list(p[1][len(list(p[1])) - window_size : len(list(p[1]))])\n",
    "    for i in range(0, 300) :\n",
    "        x = 0.0 + (len(p[1]) + i)*step_length\n",
    "        y = prc.get_prophecy(newdots[len(newdots) - window_size: len(newdots)])\n",
    "        plt.plot(x, y, 'b.')\n",
    "        newdots.append(y)\n",
    "        \n",
    "\n",
    "    plt.plot(p[0], p[1], 'r.')\n",
    "    plt.axis([0, lenght + 10, -10, 20])\n",
    "    \n",
    "    plt.show()\n",
    "     \n",
    "solve_problem(4*math.pi, 90, 3)"
   ]
  },
  {
   "cell_type": "code",
   "execution_count": null,
   "metadata": {
    "collapsed": true
   },
   "outputs": [],
   "source": []
  },
  {
   "cell_type": "code",
   "execution_count": null,
   "metadata": {
    "collapsed": true
   },
   "outputs": [],
   "source": []
  }
 ],
 "metadata": {
  "kernelspec": {
   "display_name": "Python 2",
   "language": "python",
   "name": "python2"
  },
  "language_info": {
   "codemirror_mode": {
    "name": "ipython",
    "version": 2
   },
   "file_extension": ".py",
   "mimetype": "text/x-python",
   "name": "python",
   "nbconvert_exporter": "python",
   "pygments_lexer": "ipython2",
   "version": "2.7.10"
  }
 },
 "nbformat": 4,
 "nbformat_minor": 0
}
