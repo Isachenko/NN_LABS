{
 "cells": [
  {
   "cell_type": "code",
   "execution_count": 62,
   "metadata": {
    "collapsed": false,
    "run_control": {
     "breakpoint": true
    }
   },
   "outputs": [
    {
     "name": "stdout",
     "output_type": "stream",
     "text": [
      "Populating the interactive namespace from numpy and matplotlib\n"
     ]
    },
    {
     "name": "stderr",
     "output_type": "stream",
     "text": [
      "WARNING: pylab import has clobbered these variables: ['shuffle', 'random', 'exp']\n",
      "`%matplotlib` prevents importing * from pylab and numpy\n"
     ]
    }
   ],
   "source": [
    "%pylab inline\n",
    "\n",
    "from math import exp\n",
    "import math\n",
    "\n",
    "def F_threshold_binary(s):\n",
    "    y = 0 if s <=0 else 1\n",
    "    return y\n",
    "\n",
    "def F_threshold_bipolar(s):\n",
    "    y = -1 if s<=0 else 1\n",
    "    return y\n",
    "\n",
    "def F_sigmoidal_binory(s, param = 1):\n",
    "    y = 1 / (1+(exp(param * s)))\n",
    "    return y\n",
    "    \n",
    "def F_sigmidal_bipolar(s, param = 1):\n",
    "    y = (2 / (1+(exp(param * s)))) - 1;\n",
    "    return y\n",
    "\n",
    "def F_hiperbolic_tg(s):\n",
    "    return F_sigmidal_bipolar(s, 2)\n",
    "\n",
    "def F_linear(s):\n",
    "    return s\n",
    "\n",
    "def step_constant_small(_):\n",
    "    return 0.01\n",
    "\n",
    "def step_constant_medium(_):\n",
    "    return 0.1\n",
    "\n",
    "def step_constant_large(_):\n",
    "    return 0.5\n",
    "\n",
    "def step_adaptive(x):\n",
    "    s = sum(xi**2 for xi in x)\n",
    "    return 1.0 / (1 + s)\n",
    "\n",
    "#import math\n",
    "import matplotlib.pyplot as plt\n",
    "from random import random, shuffle"
   ]
  },
  {
   "cell_type": "code",
   "execution_count": 68,
   "metadata": {
    "collapsed": true,
    "run_control": {
     "breakpoint": false
    }
   },
   "outputs": [],
   "source": [
    "def generate_dots(centerX1, centerX2, size, maxr, name):    \n",
    "    points = []\n",
    "    for i in range(size):\n",
    "        r = random()*maxr\n",
    "        alf = random()*(2*math.pi)\n",
    "        x1 = centerX1 + r*math.sin(alf)\n",
    "        x2 = centerX2 + r*math.cos(alf)\n",
    "        points.append((x1, x2, name))\n",
    "        \n",
    "    return points"
   ]
  },
  {
   "cell_type": "code",
   "execution_count": 69,
   "metadata": {
    "collapsed": false,
    "run_control": {
     "breakpoint": false
    }
   },
   "outputs": [],
   "source": [
    "def count_weights(points, exitNeuronNum):\n",
    "    shuffle(points)\n",
    "    w1 = T = 0.9\n",
    "    w2 = -0.9\n",
    "    cur_epoch = 0\n",
    "    good_epoch = False\n",
    "    while(not good_epoch):\n",
    "        good_epoch = True\n",
    "        a = -w1/w2\n",
    "        b = T/w2\n",
    "        print \"epoch: \", cur_epoch\n",
    "        print \"w1: \", w1\n",
    "        print \"w2: \", w2\n",
    "        print \"T: \", T\n",
    "        plt.plot((-10, 10), (-10*a+b, 10*a+b),color='black')\n",
    "        for cur_point in points:\n",
    "            alf = step_adaptive(cur_point[0: 1])\n",
    "            S = cur_point[0]*w1 + cur_point[1]*w2 - T\n",
    "            y = F_threshold_binary(S)\n",
    "            print cur_point\n",
    "            name_e = (cur_point[2] >> exitNeuronNum) % 2\n",
    "            print S, \" \", y, \" \", name_e\n",
    "            K = y - name_e\n",
    "            w1 = w1 - (alf * cur_point[0] * K)\n",
    "            w2 = w2 - (alf * cur_point[1] * K)\n",
    "            T = T + (alf * K)\n",
    "            if K != 0:\n",
    "                good_epoch = False\n",
    "        \n",
    "        \n",
    "        \n",
    "        cur_epoch = cur_epoch + 1\n",
    "        if (good_epoch):\n",
    "            break\n",
    "        #if (cur_epoch > 1000):\n",
    "        #    break\n",
    "    a = -w1/w2\n",
    "    b = T/w2\n",
    "    print (cur_epoch)\n",
    "    return a, b"
   ]
  },
  {
   "cell_type": "code",
   "execution_count": 70,
   "metadata": {
    "collapsed": false,
    "run_control": {
     "breakpoint": false
    }
   },
   "outputs": [
    {
     "name": "stdout",
     "output_type": "stream",
     "text": [
      "epoch:  0\n",
      "w1:  0.9\n",
      "w2:  -0.9\n",
      "T:  0.9\n",
      "(0.977494894283846, -0.9992174963286045, 0)\n",
      "0.879041151551   1   0\n",
      "(-1.0059696040094313, -1.0505615318432233, 0)\n",
      "-1.40520674175   0   0\n",
      "(-1.0091711933362462, 0.9838804309681308, 0)\n",
      "-2.19792847155   0   0\n",
      "(1.0332118626988342, 1.0887092823299034, 1)\n",
      "-1.42149138353   0   1\n",
      "epoch:  1\n",
      "w1:  0.899862751042\n",
      "w2:  0.137554652508\n",
      "T:  0.927709461519\n",
      "(0.977494894283846, -0.9992174963286045, 0)\n",
      "-0.185545232307   0   0\n",
      "(-1.0059696040094313, -1.0505615318432233, 0)\n",
      "-1.9774536633   0   0\n",
      "(-1.0091711933362462, 0.9838804309681308, 0)\n",
      "-1.70048769704   0   0\n",
      "(1.0332118626988342, 1.0887092823299034, 1)\n",
      "0.151796434671   1   1\n",
      "2\n"
     ]
    },
    {
     "data": {
      "image/png": "[encoded data removed]",
      "text/plain": [
       "<matplotlib.figure.Figure at 0x108c9e0d0>"
      ]
     },
     "metadata": {},
     "output_type": "display_data"
    }
   ],
   "source": [
    "a = generate_dots(1, 1, 1, 0.1, 1)\n",
    "b = generate_dots(1, -1, 1, 0.1, 0)\n",
    "c = generate_dots(-1, 1, 1, 0.1, 0)\n",
    "d = generate_dots(-1, -1, 1, 0.1, 0)\n",
    "b.extend(c)\n",
    "b.extend(d)\n",
    "\n",
    "\n",
    "dots = []\n",
    "dots.extend(a)\n",
    "dots.extend(b)\n",
    "#dots.extend(c)\n",
    "#dots.extend(d)\n",
    "\n",
    "l1, m1 = count_weights(dots, 0)\n",
    "#l2, m2 = count_weights(dots, 1)\n",
    "\n",
    "\n",
    "a = zip(*a)\n",
    "b = zip(*b)\n",
    "#c = zip(*c)\n",
    "#d = zip(*d)\n",
    "\n",
    "\n",
    "plt.plot(a[0], a[1], 'ro')\n",
    "plt.plot(b[0], b[1], 'bo')\n",
    "plt.plot((-10, 10), (-10*l1+m1, 10*l1+m1),color='red')\n",
    "#plt.plot((-10, 10), (-10*l2+m2, 10*l2+m2),color='black')\n",
    "\n",
    "plt.axis([-2, 2, -2, 2])\n",
    "\n",
    "plt.show()\n",
    "\n"
   ]
  },
  {
   "cell_type": "code",
   "execution_count": 71,
   "metadata": {
    "collapsed": true,
    "run_control": {
     "breakpoint": false
    }
   },
   "outputs": [],
   "source": [
    "x = 5"
   ]
  },
  {
   "cell_type": "code",
   "execution_count": 72,
   "metadata": {
    "collapsed": false,
    "run_control": {
     "breakpoint": false
    }
   },
   "outputs": [
    {
     "name": "stdout",
     "output_type": "stream",
     "text": [
      "5\n"
     ]
    }
   ],
   "source": [
    "print x"
   ]
  },
  {
   "cell_type": "code",
   "execution_count": 49,
   "metadata": {
    "collapsed": false,
    "run_control": {
     "breakpoint": true
    }
   },
   "outputs": [
    {
     "name": "stdout",
     "output_type": "stream",
     "text": [
      "6\n"
     ]
    }
   ],
   "source": [
    "\n",
    "y = 6\n",
    "print y"
   ]
  },
  {
   "cell_type": "code",
   "execution_count": 50,
   "metadata": {
    "collapsed": true,
    "run_control": {
     "breakpoint": false
    }
   },
   "outputs": [],
   "source": [
    "z = z+1"
   ]
  },
  {
   "cell_type": "code",
   "execution_count": 51,
   "metadata": {
    "collapsed": false,
    "run_control": {
     "breakpoint": false
    }
   },
   "outputs": [
    {
     "name": "stdout",
     "output_type": "stream",
     "text": [
      "14\n"
     ]
    }
   ],
   "source": [
    "print z"
   ]
  },
  {
   "cell_type": "code",
   "execution_count": 73,
   "metadata": {
    "collapsed": false,
    "run_control": {
     "breakpoint": false
    }
   },
   "outputs": [
    {
     "name": "stdout",
     "output_type": "stream",
     "text": [
      "Automatic pdb calling has been turned ON\n"
     ]
    }
   ],
   "source": []
  },
  {
   "cell_type": "code",
   "execution_count": 75,
   "metadata": {
    "collapsed": false,
    "run_control": {
     "breakpoint": false
    }
   },
   "outputs": [
    {
     "ename": "NameError",
     "evalue": "name 'dfdgd' is not defined",
     "output_type": "error",
     "traceback": [
      "\u001b[0;31m---------------------------------------------------------------------------\u001b[0m",
      "\u001b[0;31mNameError\u001b[0m                                 Traceback (most recent call last)",
      "\u001b[0;32m<ipython-input-75-39a944a72cfc>\u001b[0m in \u001b[0;36m<module>\u001b[0;34m()\u001b[0m\n\u001b[0;32m----> 1\u001b[0;31m \u001b[0mdfdgd\u001b[0m\u001b[0;34m\u001b[0m\u001b[0m\n\u001b[0m",
      "\u001b[0;31mNameError\u001b[0m: name 'dfdgd' is not defined"
     ]
    },
    {
     "name": "stdout",
     "output_type": "stream",
     "text": [
      "> \u001b[0;32m<ipython-input-75-39a944a72cfc>\u001b[0m(1)\u001b[0;36m<module>\u001b[0;34m()\u001b[0m\n",
      "\u001b[0;32m----> 1 \u001b[0;31m\u001b[0mdfdgd\u001b[0m\u001b[0;34m\u001b[0m\u001b[0m\n",
      "\u001b[0m\n",
      "ipdb> print z\n",
      "14\n",
      "ipdb> sfdwf\n",
      "*** NameError: name 'sfdwf' is not defined\n",
      "ipdb> print 100500\n",
      "100500\n",
      "ipdb> exit\n"
     ]
    }
   ],
   "source": [
    "df"
   ]
  },
  {
   "cell_type": "code",
   "execution_count": null,
   "metadata": {
    "collapsed": true,
    "run_control": {
     "breakpoint": false
    }
   },
   "outputs": [],
   "source": [
    "%debug\n"
   ]
  },
  {
   "cell_type": "code",
   "execution_count": null,
   "metadata": {
    "collapsed": true,
    "run_control": {
     "breakpoint": false
    }
   },
   "outputs": [],
   "source": [
    "dfd\n"
   ]
  },
  {
   "cell_type": "code",
   "execution_count": null,
   "metadata": {
    "collapsed": true,
    "run_control": {
     "breakpoint": false
    }
   },
   "outputs": [],
   "source": []
  },
  {
   "cell_type": "code",
   "execution_count": null,
   "metadata": {
    "collapsed": true,
    "run_control": {
     "breakpoint": false
    }
   },
   "outputs": [],
   "source": [
    "fdf"
   ]
  },
  {
   "cell_type": "code",
   "execution_count": 76,
   "metadata": {
    "collapsed": false,
    "run_control": {
     "breakpoint": false
    }
   },
   "outputs": [
    {
     "ename": "NameError",
     "evalue": "name 'fdfd' is not defined",
     "output_type": "error",
     "traceback": [
      "\u001b[0;31m---------------------------------------------------------------------------\u001b[0m",
      "\u001b[0;31mNameError\u001b[0m                                 Traceback (most recent call last)",
      "\u001b[0;32m<ipython-input-76-23e03a6e4a00>\u001b[0m in \u001b[0;36m<module>\u001b[0;34m()\u001b[0m\n\u001b[0;32m----> 1\u001b[0;31m \u001b[0mfdfd\u001b[0m\u001b[0;34m\u001b[0m\u001b[0m\n\u001b[0m",
      "\u001b[0;31mNameError\u001b[0m: name 'fdfd' is not defined"
     ]
    },
    {
     "name": "stdout",
     "output_type": "stream",
     "text": [
      "> \u001b[0;32m<ipython-input-76-23e03a6e4a00>\u001b[0m(1)\u001b[0;36m<module>\u001b[0;34m()\u001b[0m\n",
      "\u001b[0;32m----> 1 \u001b[0;31m\u001b[0mfdfd\u001b[0m\u001b[0;34m\u001b[0m\u001b[0m\n",
      "\u001b[0m\n",
      "ipdb> x\n",
      "5\n",
      "ipdb> exit\n"
     ]
    }
   ],
   "source": [
    "fdfd"
   ]
  },
  {
   "cell_type": "code",
   "execution_count": null,
   "metadata": {
    "collapsed": true,
    "run_control": {
     "breakpoint": false
    }
   },
   "outputs": [],
   "source": []
  }
 ],
 "metadata": {
  "kernelspec": {
   "display_name": "Python 2",
   "language": "python",
   "name": "python2"
  },
  "language_info": {
   "codemirror_mode": {
    "name": "ipython",
    "version": 2
   },
   "file_extension": ".py",
   "mimetype": "text/x-python",
   "name": "python",
   "nbconvert_exporter": "python",
   "pygments_lexer": "ipython2",
   "version": "2.7.10"
  }
 },
 "nbformat": 4,
 "nbformat_minor": 0
}
